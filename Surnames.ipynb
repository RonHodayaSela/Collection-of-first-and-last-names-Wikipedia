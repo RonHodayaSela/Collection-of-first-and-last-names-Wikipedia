{
  "cells": [
    {
      "cell_type": "code",
      "execution_count": 6,
      "metadata": {
        "id": "cuRYNMoBIruo"
      },
      "outputs": [],
      "source": [
        "import requests\n",
        "from bs4 import BeautifulSoup\n",
        "import json\n",
        "import pandas as pd\n",
        "from tqdm import tqdm"
      ]
    },
    {
      "cell_type": "code",
      "execution_count": 7,
      "metadata": {
        "id": "HAm5YAvPK0_Y"
      },
      "outputs": [],
      "source": [
        "#---------------------------------------------------------------------------\n",
        "#target : find the list of the names from wikipedia, start from letter A by pressing next page iterate.\n",
        "correct_names = []#list of names.\n",
        "url =f\"https://en.wikipedia.org/wiki/Category:Surnames?from=A\"\n",
        "while(True):#run till we get False of next page.\n",
        "  next_page = False#our flag\n",
        "  response = requests.get(url)\n",
        "  soup = BeautifulSoup(response.content,\"html.parser\")\n",
        "  bodyDiv = soup.find(\"div\",{\"id\":\"mw-pages\"})\n",
        "  namesDiv = bodyDiv.find(\"div\",{\"class\":\"mw-category mw-category-columns\"})\n",
        "  names = namesDiv.findAll(\"a\")#save the names for the iteration.\n",
        "  for name in names:#make our list correct.\n",
        "    correct_names.append(name.text)\n",
        "  bodyDiv = soup.find(\"div\",{\"id\":\"mw-pages\"})\n",
        "  names = bodyDiv.findAll(\"a\")\n",
        "  for name_link in names:#run through the links of the names till we get FALSE from flag.\n",
        "    if (name_link.text == 'next page'):\n",
        "      next_page = True\n",
        "      url = \"https://en.wikipedia.org\" + name_link['href']#if there is no false then start the next page.\n",
        "  if next_page == False:\n",
        "    break"
      ]
    },
    {
      "cell_type": "code",
      "execution_count": 8,
      "metadata": {
        "colab": {
          "base_uri": "https://localhost:8080/"
        },
        "id": "oVOTgZisIuu9",
        "outputId": "0f8b45ef-cfcc-4aa4-cbf7-b0b5df7b7c0d"
      },
      "outputs": [
        {
          "name": "stderr",
          "output_type": "stream",
          "text": [
            "100%|██████████| 94521/94521 [2:29:17<00:00, 10.55it/s]\n"
          ]
        }
      ],
      "source": [
        "\n",
        "#---------------------------------------------------------------------------\n",
        "Qֹֹֹ_and_name = []#name that has wikidata value\n",
        "page_ids = []#list of Q_ID for wikiData\n",
        "#---------------------------------------------------------------------------\n",
        "page_titles = list(correct_name for correct_name in correct_names )\n",
        "for page_title in tqdm(page_titles):\n",
        "  api_url = f'https://en.wikipedia.org/w/api.php?action=query&titles={page_title}&prop=pageprops&format=json'\n",
        "  response = requests.get(api_url).json()\n",
        "  try:#if the name has id then we save it or else we pass.\n",
        "    page_id = next(iter(response['query']['pages'].values()))['pageprops']['wikibase_item']\n",
        "    page_ids.append(page_id)\n",
        "    Qֹֹֹ_and_name.append(page_title)\n",
        "  except:\n",
        "    pass"
      ]
    },
    {
      "cell_type": "code",
      "execution_count": 12,
      "metadata": {
        "colab": {
          "base_uri": "https://localhost:8080/"
        },
        "id": "o-PzpcmOw9tp",
        "outputId": "4925d91a-ba8b-4539-c835-087974c62477"
      },
      "outputs": [
        {
          "data": {
            "text/plain": [
              "94511"
            ]
          },
          "execution_count": 12,
          "metadata": {},
          "output_type": "execute_result"
        }
      ],
      "source": [
        "len(correct_names)"
      ]
    },
    {
      "cell_type": "code",
      "execution_count": 9,
      "metadata": {
        "id": "F3oKgZIG7Q5u"
      },
      "outputs": [],
      "source": [
        "def func(page_ids,x,name_index):\n",
        "  #------------------------------------------------------------------------------\n",
        "  table = []#the final list of the rows\n",
        "  # name_index = 0#index for running through the name list\n",
        "  #------------------------------------------------------------------------------\n",
        "  #here we make the final list with rows for every Q_number\n",
        "  # page_ids = ['Q21502297']\n",
        "  list_ex1 = []\n",
        "  for Q_number in tqdm(page_ids):\n",
        "    try:\n",
        "      url = f\"https://www.wikidata.org/wiki/{Q_number}\"\n",
        "      response = requests.get(url)\n",
        "      soup = BeautifulSoup(response.content,\"html.parser\")\n",
        "      enteries = soup.findAll(\"div\",{\"class\":\"mw-collapsible-content\"})\n",
        "      li_list = enteries[0].findAll(\"li\")\n",
        "      count = 0\n",
        "      # print(li_list)\n",
        "      new_span_c = []\n",
        "      for li in li_list :#creat the rows of the table\n",
        "        span_site_link = li.findAll(\"span\",{\"class\":\"wikibase-sitelinkview-page\"})\n",
        "        span = soup.findAll(\"span\",{\"class\":\"wikibase-descriptionview-text\"})\n",
        "        container = enteries[0].findAll(\"span\",{\"class\":\"wikibase-sitelinkview-siteid-container\"})\n",
        "        if len(new_span_c) == 0:\n",
        "          for i in range(len(container)):\n",
        "            span_continer = container[i].findAll(\"span\")\n",
        "            new_span_c.append(span_continer[0])\n",
        "        table.append([Qֹֹֹ_and_name[name_index],Q_number,span[0].getText(),new_span_c[0].get(\"title\"),span_site_link[0].get(\"lang\"),span_site_link[0].getText()])\n",
        "        new_span_c.pop(0)\n",
        "    except:\n",
        "      print(Q_number)\n",
        "      list_ex1.append(Q_number)\n",
        "    name_index+=1\n",
        "\n",
        "  #------------------------------------------------------------------------------\n",
        "  #creat the table\n",
        "  results_df = pd.DataFrame(table, columns=['Label','WikiDate ID', 'English Description','Language','Wiki Short Lang','Entry'])\n",
        "  # results_df = results_df[['Label','WikiDate ID', 'English Description','Language','Wiki Short Lang','Entry']]#change the coulmns\n",
        "  results_df#print, it is our test \n",
        "  results_df.to_csv('Surnames'+x+'.csv', index=False, encoding='utf-8-sig')\n",
        "  return name_index\n",
        "  # conc.append(results_df)"
      ]
    },
    {
      "cell_type": "code",
      "execution_count": 14,
      "metadata": {
        "colab": {
          "base_uri": "https://localhost:8080/"
        },
        "id": "BVvGYjg7Z1z5",
        "outputId": "1ddc7641-1ef3-45e3-c578-0a585bd89c7a"
      },
      "outputs": [
        {
          "data": {
            "text/plain": [
              "70691"
            ]
          },
          "execution_count": 14,
          "metadata": {},
          "output_type": "execute_result"
        }
      ],
      "source": [
        "len(page_ids)"
      ]
    },
    {
      "cell_type": "code",
      "execution_count": 15,
      "metadata": {
        "id": "d6k2OwN8Z9NC"
      },
      "outputs": [],
      "source": [
        "name_index = 0"
      ]
    },
    {
      "cell_type": "code",
      "execution_count": null,
      "metadata": {
        "id": "gkJiFZvBaDTW"
      },
      "outputs": [],
      "source": [
        "index = func(page_ids[:10000],'1',name_index)\n",
        "print(index)"
      ]
    },
    {
      "cell_type": "code",
      "execution_count": null,
      "metadata": {
        "id": "8m2F2qH9aTq5"
      },
      "outputs": [],
      "source": [
        "index = func(page_ids[10000:20000],'2',index)\n",
        "print(index)"
      ]
    },
    {
      "cell_type": "code",
      "execution_count": null,
      "metadata": {
        "id": "M19jeGWdabI9"
      },
      "outputs": [],
      "source": [
        "index = func(page_ids[20000:30000],'3',index)\n",
        "print(index)"
      ]
    },
    {
      "cell_type": "code",
      "execution_count": null,
      "metadata": {
        "id": "OQPJKnDxkcmI"
      },
      "outputs": [],
      "source": [
        "index = func(page_ids[30000:40000],'4',index)\n",
        "print(index)"
      ]
    },
    {
      "cell_type": "code",
      "execution_count": null,
      "metadata": {
        "id": "G1Kbz6NVkfOh"
      },
      "outputs": [],
      "source": [
        "index = func(page_ids[40000:50000],'5',index)\n",
        "print(index)"
      ]
    },
    {
      "cell_type": "code",
      "execution_count": null,
      "metadata": {
        "id": "qUoyC7CWbhdG"
      },
      "outputs": [],
      "source": [
        "index = func(page_ids[50000:60000],'6',index)\n",
        "print(index)"
      ]
    },
    {
      "cell_type": "code",
      "execution_count": null,
      "metadata": {
        "id": "sP-cgK9AcDKA"
      },
      "outputs": [],
      "source": [
        "index = func(page_ids[60000:70000],'7',index)\n",
        "print(index)"
      ]
    },
    {
      "cell_type": "code",
      "execution_count": null,
      "metadata": {
        "id": "S1ADw_vRab5P"
      },
      "outputs": [],
      "source": [
        "index = func(page_ids[70000:],'8',index)\n",
        "print(index)"
      ]
    },
    {
      "cell_type": "code",
      "execution_count": null,
      "metadata": {
        "id": "-bJl-zp-kBVf"
      },
      "outputs": [],
      "source": [
        "# We had to split the run into 8 parts because\n",
        "#  the number of names with Q_ids is 70691 and  Google Colab\n",
        "#  cannot handle a long hour run."
      ]
    },
    {
      "cell_type": "code",
      "execution_count": 14,
      "metadata": {
        "id": "lqn9nEaXbBaV"
      },
      "outputs": [],
      "source": [
        "t1 = pd.read_csv('Surnames1.csv')#0-1\n",
        "t2 = pd.read_csv('Surnames2.csv')#1-2\n",
        "t3 = pd.read_csv('Surnames3.csv')#2-3\n",
        "t4 = pd.read_csv('Surnames4.csv')#3-4\n",
        "t5 = pd.read_csv('Surnames5.csv')#4-5\n",
        "t6 = pd.read_csv('Surnames6.csv')#5-6\n",
        "t7 = pd.read_csv('Surnames7.csv')#6-7\n",
        "t8 = pd.read_csv('Surnames8.csv')#7-...\n",
        "\n",
        "\n",
        "\n",
        "big_table = [t1,t2,t3,t4,t5,t6,t7,t8]\n",
        "big_table_df = pd.concat(big_table,ignore_index = True)\n",
        "#we use concat to create the big table\n"
      ]
    },
    {
      "cell_type": "code",
      "execution_count": 15,
      "metadata": {
        "colab": {
          "base_uri": "https://localhost:8080/",
          "height": 554
        },
        "id": "sn7osEO6ax1g",
        "outputId": "13c94327-8985-481d-d129-371a89284454"
      },
      "outputs": [
        {
          "data": {
            "text/html": [
              "\n",
              "  <div id=\"df-fd0bcefe-1337-4d32-9ae4-85fcb9f1060a\">\n",
              "    <div class=\"colab-df-container\">\n",
              "      <div>\n",
              "<style scoped>\n",
              "    .dataframe tbody tr th:only-of-type {\n",
              "        vertical-align: middle;\n",
              "    }\n",
              "\n",
              "    .dataframe tbody tr th {\n",
              "        vertical-align: top;\n",
              "    }\n",
              "\n",
              "    .dataframe thead th {\n",
              "        text-align: right;\n",
              "    }\n",
              "</style>\n",
              "<table border=\"1\" class=\"dataframe\">\n",
              "  <thead>\n",
              "    <tr style=\"text-align: right;\">\n",
              "      <th></th>\n",
              "      <th>Label</th>\n",
              "      <th>WikiDate ID</th>\n",
              "      <th>English Description</th>\n",
              "      <th>Language</th>\n",
              "      <th>Wiki Short Lang</th>\n",
              "      <th>Entry</th>\n",
              "    </tr>\n",
              "  </thead>\n",
              "  <tbody>\n",
              "    <tr>\n",
              "      <th>0</th>\n",
              "      <td>Aa (surname)</td>\n",
              "      <td>Q16479291</td>\n",
              "      <td>family name</td>\n",
              "      <td>English</td>\n",
              "      <td>en</td>\n",
              "      <td>Aa (surname)</td>\n",
              "    </tr>\n",
              "    <tr>\n",
              "      <th>1</th>\n",
              "      <td>Aa (surname)</td>\n",
              "      <td>Q16479291</td>\n",
              "      <td>family name</td>\n",
              "      <td>Estonian</td>\n",
              "      <td>et</td>\n",
              "      <td>Aa (perekonnanimi)</td>\n",
              "    </tr>\n",
              "    <tr>\n",
              "      <th>2</th>\n",
              "      <td>Aa (surname)</td>\n",
              "      <td>Q16479291</td>\n",
              "      <td>family name</td>\n",
              "      <td>Burmese</td>\n",
              "      <td>my</td>\n",
              "      <td>အား (မျိုးရိုး)</td>\n",
              "    </tr>\n",
              "    <tr>\n",
              "      <th>3</th>\n",
              "      <td>Aa (surname)</td>\n",
              "      <td>Q16479291</td>\n",
              "      <td>family name</td>\n",
              "      <td>Turkish</td>\n",
              "      <td>tr</td>\n",
              "      <td>Aa (soyadı)</td>\n",
              "    </tr>\n",
              "    <tr>\n",
              "      <th>4</th>\n",
              "      <td>Aa (surname)</td>\n",
              "      <td>Q16479291</td>\n",
              "      <td>family name</td>\n",
              "      <td>Vietnamese</td>\n",
              "      <td>vi</td>\n",
              "      <td>Aa (họ)</td>\n",
              "    </tr>\n",
              "    <tr>\n",
              "      <th>...</th>\n",
              "      <td>...</td>\n",
              "      <td>...</td>\n",
              "      <td>...</td>\n",
              "      <td>...</td>\n",
              "      <td>...</td>\n",
              "      <td>...</td>\n",
              "    </tr>\n",
              "    <tr>\n",
              "      <th>126601</th>\n",
              "      <td>Żywiecki (surname)</td>\n",
              "      <td>Q18385785</td>\n",
              "      <td>family name</td>\n",
              "      <td>English</td>\n",
              "      <td>en</td>\n",
              "      <td>Żywiecki (surname)</td>\n",
              "    </tr>\n",
              "    <tr>\n",
              "      <th>126602</th>\n",
              "      <td>Żywiecki (surname)</td>\n",
              "      <td>Q18385785</td>\n",
              "      <td>family name</td>\n",
              "      <td>Chinese (Min Nan)</td>\n",
              "      <td>NaN</td>\n",
              "      <td>Żywiecki (sèⁿ)</td>\n",
              "    </tr>\n",
              "    <tr>\n",
              "      <th>126603</th>\n",
              "      <td>Zziwa</td>\n",
              "      <td>Q109540864</td>\n",
              "      <td>family name</td>\n",
              "      <td>English</td>\n",
              "      <td>en</td>\n",
              "      <td>Zziwa</td>\n",
              "    </tr>\n",
              "    <tr>\n",
              "      <th>126604</th>\n",
              "      <td>Zziwa</td>\n",
              "      <td>Q109540864</td>\n",
              "      <td>family name</td>\n",
              "      <td>Igbo</td>\n",
              "      <td>ig</td>\n",
              "      <td>Zziwa</td>\n",
              "    </tr>\n",
              "    <tr>\n",
              "      <th>126605</th>\n",
              "      <td>Þorbergsson</td>\n",
              "      <td>Q86750666</td>\n",
              "      <td>No description defined</td>\n",
              "      <td>English</td>\n",
              "      <td>en</td>\n",
              "      <td>Þorbergsson</td>\n",
              "    </tr>\n",
              "  </tbody>\n",
              "</table>\n",
              "<p>126606 rows × 6 columns</p>\n",
              "</div>\n",
              "      <button class=\"colab-df-convert\" onclick=\"convertToInteractive('df-fd0bcefe-1337-4d32-9ae4-85fcb9f1060a')\"\n",
              "              title=\"Convert this dataframe to an interactive table.\"\n",
              "              style=\"display:none;\">\n",
              "        \n",
              "  <svg xmlns=\"http://www.w3.org/2000/svg\" height=\"24px\"viewBox=\"0 0 24 24\"\n",
              "       width=\"24px\">\n",
              "    <path d=\"M0 0h24v24H0V0z\" fill=\"none\"/>\n",
              "    <path d=\"M18.56 5.44l.94 2.06.94-2.06 2.06-.94-2.06-.94-.94-2.06-.94 2.06-2.06.94zm-11 1L8.5 8.5l.94-2.06 2.06-.94-2.06-.94L8.5 2.5l-.94 2.06-2.06.94zm10 10l.94 2.06.94-2.06 2.06-.94-2.06-.94-.94-2.06-.94 2.06-2.06.94z\"/><path d=\"M17.41 7.96l-1.37-1.37c-.4-.4-.92-.59-1.43-.59-.52 0-1.04.2-1.43.59L10.3 9.45l-7.72 7.72c-.78.78-.78 2.05 0 2.83L4 21.41c.39.39.9.59 1.41.59.51 0 1.02-.2 1.41-.59l7.78-7.78 2.81-2.81c.8-.78.8-2.07 0-2.86zM5.41 20L4 18.59l7.72-7.72 1.47 1.35L5.41 20z\"/>\n",
              "  </svg>\n",
              "      </button>\n",
              "      \n",
              "  <style>\n",
              "    .colab-df-container {\n",
              "      display:flex;\n",
              "      flex-wrap:wrap;\n",
              "      gap: 12px;\n",
              "    }\n",
              "\n",
              "    .colab-df-convert {\n",
              "      background-color: #E8F0FE;\n",
              "      border: none;\n",
              "      border-radius: 50%;\n",
              "      cursor: pointer;\n",
              "      display: none;\n",
              "      fill: #1967D2;\n",
              "      height: 32px;\n",
              "      padding: 0 0 0 0;\n",
              "      width: 32px;\n",
              "    }\n",
              "\n",
              "    .colab-df-convert:hover {\n",
              "      background-color: #E2EBFA;\n",
              "      box-shadow: 0px 1px 2px rgba(60, 64, 67, 0.3), 0px 1px 3px 1px rgba(60, 64, 67, 0.15);\n",
              "      fill: #174EA6;\n",
              "    }\n",
              "\n",
              "    [theme=dark] .colab-df-convert {\n",
              "      background-color: #3B4455;\n",
              "      fill: #D2E3FC;\n",
              "    }\n",
              "\n",
              "    [theme=dark] .colab-df-convert:hover {\n",
              "      background-color: #434B5C;\n",
              "      box-shadow: 0px 1px 3px 1px rgba(0, 0, 0, 0.15);\n",
              "      filter: drop-shadow(0px 1px 2px rgba(0, 0, 0, 0.3));\n",
              "      fill: #FFFFFF;\n",
              "    }\n",
              "  </style>\n",
              "\n",
              "      <script>\n",
              "        const buttonEl =\n",
              "          document.querySelector('#df-fd0bcefe-1337-4d32-9ae4-85fcb9f1060a button.colab-df-convert');\n",
              "        buttonEl.style.display =\n",
              "          google.colab.kernel.accessAllowed ? 'block' : 'none';\n",
              "\n",
              "        async function convertToInteractive(key) {\n",
              "          const element = document.querySelector('#df-fd0bcefe-1337-4d32-9ae4-85fcb9f1060a');\n",
              "          const dataTable =\n",
              "            await google.colab.kernel.invokeFunction('convertToInteractive',\n",
              "                                                     [key], {});\n",
              "          if (!dataTable) return;\n",
              "\n",
              "          const docLinkHtml = 'Like what you see? Visit the ' +\n",
              "            '<a target=\"_blank\" href=https://colab.research.google.com/notebooks/data_table.ipynb>data table notebook</a>'\n",
              "            + ' to learn more about interactive tables.';\n",
              "          element.innerHTML = '';\n",
              "          dataTable['output_type'] = 'display_data';\n",
              "          await google.colab.output.renderOutput(dataTable, element);\n",
              "          const docLink = document.createElement('div');\n",
              "          docLink.innerHTML = docLinkHtml;\n",
              "          element.appendChild(docLink);\n",
              "        }\n",
              "      </script>\n",
              "    </div>\n",
              "  </div>\n",
              "  "
            ],
            "text/plain": [
              "                     Label WikiDate ID     English Description  \\\n",
              "0             Aa (surname)   Q16479291             family name   \n",
              "1             Aa (surname)   Q16479291             family name   \n",
              "2             Aa (surname)   Q16479291             family name   \n",
              "3             Aa (surname)   Q16479291             family name   \n",
              "4             Aa (surname)   Q16479291             family name   \n",
              "...                    ...         ...                     ...   \n",
              "126601  Żywiecki (surname)   Q18385785             family name   \n",
              "126602  Żywiecki (surname)   Q18385785             family name   \n",
              "126603               Zziwa  Q109540864             family name   \n",
              "126604               Zziwa  Q109540864             family name   \n",
              "126605         Þorbergsson   Q86750666  No description defined   \n",
              "\n",
              "                 Language Wiki Short Lang               Entry  \n",
              "0                 English              en        Aa (surname)  \n",
              "1                Estonian              et  Aa (perekonnanimi)  \n",
              "2                 Burmese              my     အား (မျိုးရိုး)  \n",
              "3                 Turkish              tr         Aa (soyadı)  \n",
              "4              Vietnamese              vi             Aa (họ)  \n",
              "...                   ...             ...                 ...  \n",
              "126601            English              en  Żywiecki (surname)  \n",
              "126602  Chinese (Min Nan)             NaN      Żywiecki (sèⁿ)  \n",
              "126603            English              en               Zziwa  \n",
              "126604               Igbo              ig               Zziwa  \n",
              "126605            English              en         Þorbergsson  \n",
              "\n",
              "[126606 rows x 6 columns]"
            ]
          },
          "execution_count": 15,
          "metadata": {},
          "output_type": "execute_result"
        }
      ],
      "source": [
        "big_table_df"
      ]
    },
    {
      "cell_type": "code",
      "execution_count": 16,
      "metadata": {
        "id": "g-g5p-G7asCw"
      },
      "outputs": [],
      "source": [
        "big_table_df.to_csv('finalSurnames.csv', index=False, encoding='utf-8-sig')\n"
      ]
    }
  ],
  "metadata": {
    "colab": {
      "provenance": []
    },
    "kernelspec": {
      "display_name": "Python 3",
      "name": "python3"
    },
    "language_info": {
      "name": "python"
    }
  },
  "nbformat": 4,
  "nbformat_minor": 0
}
