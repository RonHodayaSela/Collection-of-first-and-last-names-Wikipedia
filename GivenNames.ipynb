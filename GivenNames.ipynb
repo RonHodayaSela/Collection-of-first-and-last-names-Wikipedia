{
  "cells": [
    {
      "cell_type": "code",
      "execution_count": 2,
      "metadata": {
        "id": "NT0_SCFi0P3v"
      },
      "outputs": [],
      "source": [
        "import requests\n",
        "from bs4 import BeautifulSoup\n",
        "import json\n",
        "import pandas as pd\n",
        "from tqdm import tqdm"
      ]
    },
    {
      "cell_type": "code",
      "execution_count": 3,
      "metadata": {
        "id": "ZRVZkNeF0T0B"
      },
      "outputs": [],
      "source": [
        "#---------------------------------------------------------------------------\n",
        "#target : find the list of the names from wikipedia, start from letter A by pressing next page iterate.\n",
        "correct_names = []#list of names.\n",
        "url =f\"https://en.wikipedia.org/wiki/Category:Given_names?from=A\"\n",
        "while(True):#run till we get False of next page.\n",
        "  next_page = False#our flag\n",
        "  response = requests.get(url)\n",
        "  soup = BeautifulSoup(response.content,\"html.parser\")\n",
        "  bodyDiv = soup.find(\"div\",{\"id\":\"mw-pages\"})\n",
        "  namesDiv = bodyDiv.find(\"div\",{\"class\":\"mw-category mw-category-columns\"})\n",
        "  names = namesDiv.findAll(\"a\")#save the names for the iteration.\n",
        "  for name in names:#make our list correct.\n",
        "    correct_names.append(name.text)\n",
        "  bodyDiv = soup.find(\"div\",{\"id\":\"mw-pages\"})\n",
        "  names = bodyDiv.findAll(\"a\")\n",
        "  for name_link in names:#run through the links of the names till we get FALSE from flag.\n",
        "    if (name_link.text == 'next page'):\n",
        "      next_page = True\n",
        "      url = \"https://en.wikipedia.org\" + name_link['href']#if there is no false then start the next page.\n",
        "  if next_page == False:\n",
        "    break"
      ]
    },
    {
      "cell_type": "code",
      "execution_count": 4,
      "metadata": {
        "colab": {
          "base_uri": "https://localhost:8080/"
        },
        "id": "deS4YuHV1uox",
        "outputId": "29152ddf-84cc-4e40-81b3-be64b548a875"
      },
      "outputs": [
        {
          "data": {
            "text/plain": [
              "19464"
            ]
          },
          "execution_count": 4,
          "metadata": {},
          "output_type": "execute_result"
        }
      ],
      "source": [
        "len(correct_names)"
      ]
    },
    {
      "cell_type": "code",
      "execution_count": 5,
      "metadata": {
        "colab": {
          "base_uri": "https://localhost:8080/"
        },
        "id": "GIMdAgLa0XMW",
        "outputId": "ccad3557-8026-4ddb-c495-40b0966d58a2"
      },
      "outputs": [
        {
          "name": "stderr",
          "output_type": "stream",
          "text": [
            "100%|██████████| 19464/19464 [25:44<00:00, 12.60it/s]\n"
          ]
        }
      ],
      "source": [
        "#---------------------------------------------------------------------------\n",
        "Qֹֹֹ_and_name = []#name that has wikidata value\n",
        "page_ids = []#list of Q_ID for wikiData\n",
        "#---------------------------------------------------------------------------\n",
        "page_titles = list(correct_name for correct_name in correct_names )\n",
        "for page_title in tqdm(page_titles):\n",
        "  api_url = f'https://en.wikipedia.org/w/api.php?action=query&titles={page_title}&prop=pageprops&format=json'\n",
        "  response = requests.get(api_url).json()\n",
        "  try:#if the name has id then we save it or else we pass.\n",
        "    page_id = next(iter(response['query']['pages'].values()))['pageprops']['wikibase_item']\n",
        "    page_ids.append(page_id)\n",
        "    Qֹֹֹ_and_name.append(page_title)\n",
        "  except:\n",
        "    pass"
      ]
    },
    {
      "cell_type": "code",
      "execution_count": 9,
      "metadata": {
        "colab": {
          "base_uri": "https://localhost:8080/"
        },
        "id": "tRUQ-RBS0ezg",
        "outputId": "51337a12-58cb-4b54-f2c0-8dccb1b398db"
      },
      "outputs": [
        {
          "data": {
            "text/plain": [
              "17358"
            ]
          },
          "execution_count": 9,
          "metadata": {},
          "output_type": "execute_result"
        }
      ],
      "source": [
        "len(page_ids)"
      ]
    },
    {
      "cell_type": "code",
      "execution_count": 7,
      "metadata": {
        "id": "W9nsSB8D0ffg"
      },
      "outputs": [],
      "source": [
        "def func(page_ids,x,name_index):\n",
        "  #------------------------------------------------------------------------------\n",
        "  table = []#the final list of the rows\n",
        "  # name_index = 0#index for running through the name list\n",
        "  #------------------------------------------------------------------------------\n",
        "  #here we make the final list with rows for every Q_number\n",
        "  # page_ids = ['Q21502297']\n",
        "  list_ex1 = []\n",
        "  for Q_number in tqdm(page_ids):\n",
        "    try:\n",
        "      url = f\"https://www.wikidata.org/wiki/{Q_number}\"\n",
        "      response = requests.get(url)\n",
        "      soup = BeautifulSoup(response.content,\"html.parser\")\n",
        "      enteries = soup.findAll(\"div\",{\"class\":\"mw-collapsible-content\"})\n",
        "      li_list = enteries[0].findAll(\"li\")\n",
        "      count = 0\n",
        "      # print(li_list)\n",
        "      new_span_c = []\n",
        "      for li in li_list :#creat the rows of the table\n",
        "        span_site_link = li.findAll(\"span\",{\"class\":\"wikibase-sitelinkview-page\"})\n",
        "        span = soup.findAll(\"span\",{\"class\":\"wikibase-descriptionview-text\"})\n",
        "        container = enteries[0].findAll(\"span\",{\"class\":\"wikibase-sitelinkview-siteid-container\"})\n",
        "        if len(new_span_c) == 0:\n",
        "          for i in range(len(container)):\n",
        "            span_continer = container[i].findAll(\"span\")\n",
        "            new_span_c.append(span_continer[0])\n",
        "        table.append([Qֹֹֹ_and_name[name_index],Q_number,span[0].getText(),new_span_c[0].get(\"title\"),span_site_link[0].get(\"lang\"),span_site_link[0].getText()])\n",
        "        new_span_c.pop(0)\n",
        "    except:\n",
        "      print(Q_number)\n",
        "      list_ex1.append(Q_number)\n",
        "    name_index+=1\n",
        "\n",
        "  #------------------------------------------------------------------------------\n",
        "  #creat the table\n",
        "  results_df = pd.DataFrame(table, columns=['Label','WikiDate ID', 'English Description','Language','Wiki Short Lang','Entry'])\n",
        "  # results_df = results_df[['Label','WikiDate ID', 'English Description','Language','Wiki Short Lang','Entry']]#change the coulmns\n",
        "  results_df#print, it is our test \n",
        "  results_df.to_csv('Given_names'+x+'.csv', index=False, encoding='utf-8-sig')\n",
        "  return name_index\n",
        "  # conc.append(results_df)"
      ]
    },
    {
      "cell_type": "code",
      "execution_count": 11,
      "metadata": {
        "colab": {
          "base_uri": "https://localhost:8080/"
        },
        "id": "ZeZRSRSP0mB7",
        "outputId": "99b40c1b-68ae-482f-d88a-9b58795ef654"
      },
      "outputs": [
        {
          "data": {
            "text/plain": [
              "17358"
            ]
          },
          "execution_count": 11,
          "metadata": {},
          "output_type": "execute_result"
        }
      ],
      "source": [
        "len(page_ids)"
      ]
    },
    {
      "cell_type": "code",
      "execution_count": 12,
      "metadata": {
        "id": "wl8CCP6Z0fwj"
      },
      "outputs": [],
      "source": [
        "name_index = 0"
      ]
    },
    {
      "cell_type": "code",
      "execution_count": 13,
      "metadata": {
        "colab": {
          "base_uri": "https://localhost:8080/"
        },
        "id": "y8qDEJyO0wKI",
        "outputId": "b6a78c87-940f-46e0-8423-97480c9f2e81"
      },
      "outputs": [
        {
          "name": "stderr",
          "output_type": "stream",
          "text": [
            "100%|██████████| 10000/10000 [17:50<00:00,  9.34it/s]\n"
          ]
        }
      ],
      "source": [
        "index = func(page_ids[:10000],'1',name_index)\n"
      ]
    },
    {
      "cell_type": "code",
      "execution_count": 8,
      "metadata": {
        "colab": {
          "base_uri": "https://localhost:8080/"
        },
        "id": "GOzHV5UG0ziG",
        "outputId": "104b75d5-9671-4cf9-b623-9dff1f89fcd4"
      },
      "outputs": [
        {
          "name": "stderr",
          "output_type": "stream",
          "text": [
            "100%|██████████| 7358/7358 [12:40<00:00,  9.67it/s]\n"
          ]
        },
        {
          "name": "stdout",
          "output_type": "stream",
          "text": [
            "17358\n"
          ]
        }
      ],
      "source": [
        "index = func(page_ids[10000:],'2',index)\n",
        "print(index)"
      ]
    },
    {
      "cell_type": "code",
      "execution_count": 9,
      "metadata": {
        "id": "WmM7ojsY1ErW"
      },
      "outputs": [],
      "source": [
        "t1 = pd.read_csv('Given_names1.csv')#0-1\n",
        "t2 = pd.read_csv('Given_names2.csv')#1-2\n",
        "\n",
        "big_table = [t1,t2]\n",
        "big_table_df = pd.concat(big_table,ignore_index = True)\n"
      ]
    },
    {
      "cell_type": "code",
      "execution_count": null,
      "metadata": {
        "id": "x8LbziHWcFMI"
      },
      "outputs": [],
      "source": [
        "# We had to split the run into two parts because\n",
        "#  the number of names with Q_ids is 17358 and  Google Colab\n",
        "#  cannot handle a long hour run."
      ]
    },
    {
      "cell_type": "code",
      "execution_count": null,
      "metadata": {
        "id": "x3JBS9wZhzZc"
      },
      "outputs": [],
      "source": [
        "#we use concat to create the big table\n"
      ]
    },
    {
      "cell_type": "code",
      "execution_count": 10,
      "metadata": {
        "colab": {
          "base_uri": "https://localhost:8080/",
          "height": 423
        },
        "id": "DcDp0gY31HHd",
        "outputId": "154996d1-988f-4bc4-8ff1-59945dc050f6"
      },
      "outputs": [
        {
          "data": {
            "text/html": [
              "\n",
              "  <div id=\"df-b6186b3d-5508-42e7-9839-7e8a94b2d547\">\n",
              "    <div class=\"colab-df-container\">\n",
              "      <div>\n",
              "<style scoped>\n",
              "    .dataframe tbody tr th:only-of-type {\n",
              "        vertical-align: middle;\n",
              "    }\n",
              "\n",
              "    .dataframe tbody tr th {\n",
              "        vertical-align: top;\n",
              "    }\n",
              "\n",
              "    .dataframe thead th {\n",
              "        text-align: right;\n",
              "    }\n",
              "</style>\n",
              "<table border=\"1\" class=\"dataframe\">\n",
              "  <thead>\n",
              "    <tr style=\"text-align: right;\">\n",
              "      <th></th>\n",
              "      <th>Label</th>\n",
              "      <th>WikiDate ID</th>\n",
              "      <th>English Description</th>\n",
              "      <th>Language</th>\n",
              "      <th>Wiki Short Lang</th>\n",
              "      <th>Entry</th>\n",
              "    </tr>\n",
              "  </thead>\n",
              "  <tbody>\n",
              "    <tr>\n",
              "      <th>0</th>\n",
              "      <td>Aad</td>\n",
              "      <td>Q300770</td>\n",
              "      <td>male given name</td>\n",
              "      <td>German</td>\n",
              "      <td>de</td>\n",
              "      <td>Aad</td>\n",
              "    </tr>\n",
              "    <tr>\n",
              "      <th>1</th>\n",
              "      <td>Aad</td>\n",
              "      <td>Q300770</td>\n",
              "      <td>male given name</td>\n",
              "      <td>English</td>\n",
              "      <td>en</td>\n",
              "      <td>Aad</td>\n",
              "    </tr>\n",
              "    <tr>\n",
              "      <th>2</th>\n",
              "      <td>Aad</td>\n",
              "      <td>Q300770</td>\n",
              "      <td>male given name</td>\n",
              "      <td>Persian</td>\n",
              "      <td>fa</td>\n",
              "      <td>آد</td>\n",
              "    </tr>\n",
              "    <tr>\n",
              "      <th>3</th>\n",
              "      <td>Aad</td>\n",
              "      <td>Q300770</td>\n",
              "      <td>male given name</td>\n",
              "      <td>Chinese</td>\n",
              "      <td>zh</td>\n",
              "      <td>阿德</td>\n",
              "    </tr>\n",
              "    <tr>\n",
              "      <th>4</th>\n",
              "      <td>Aadil</td>\n",
              "      <td>Q96476141</td>\n",
              "      <td>masculine given name</td>\n",
              "      <td>English</td>\n",
              "      <td>en</td>\n",
              "      <td>Aadil</td>\n",
              "    </tr>\n",
              "    <tr>\n",
              "      <th>...</th>\n",
              "      <td>...</td>\n",
              "      <td>...</td>\n",
              "      <td>...</td>\n",
              "      <td>...</td>\n",
              "      <td>...</td>\n",
              "      <td>...</td>\n",
              "    </tr>\n",
              "    <tr>\n",
              "      <th>44198</th>\n",
              "      <td>Zygmunt</td>\n",
              "      <td>Q245304</td>\n",
              "      <td>male given name</td>\n",
              "      <td>Polish</td>\n",
              "      <td>pl</td>\n",
              "      <td>Zygmunt</td>\n",
              "    </tr>\n",
              "    <tr>\n",
              "      <th>44199</th>\n",
              "      <td>Þórir</td>\n",
              "      <td>Q14312096</td>\n",
              "      <td>Wikimedia disambiguation page</td>\n",
              "      <td>English</td>\n",
              "      <td>en</td>\n",
              "      <td>Þórir</td>\n",
              "    </tr>\n",
              "    <tr>\n",
              "      <th>44200</th>\n",
              "      <td>Þórir</td>\n",
              "      <td>Q14312096</td>\n",
              "      <td>Wikimedia disambiguation page</td>\n",
              "      <td>Italian</td>\n",
              "      <td>it</td>\n",
              "      <td>Thorir</td>\n",
              "    </tr>\n",
              "    <tr>\n",
              "      <th>44201</th>\n",
              "      <td>Þorlákur</td>\n",
              "      <td>Q3482049</td>\n",
              "      <td>male given name</td>\n",
              "      <td>English</td>\n",
              "      <td>en</td>\n",
              "      <td>Þorlákur</td>\n",
              "    </tr>\n",
              "    <tr>\n",
              "      <th>44202</th>\n",
              "      <td>Þorlákur</td>\n",
              "      <td>Q3482049</td>\n",
              "      <td>male given name</td>\n",
              "      <td>Icelandic</td>\n",
              "      <td>is</td>\n",
              "      <td>Þorlákur</td>\n",
              "    </tr>\n",
              "  </tbody>\n",
              "</table>\n",
              "<p>44203 rows × 6 columns</p>\n",
              "</div>\n",
              "      <button class=\"colab-df-convert\" onclick=\"convertToInteractive('df-b6186b3d-5508-42e7-9839-7e8a94b2d547')\"\n",
              "              title=\"Convert this dataframe to an interactive table.\"\n",
              "              style=\"display:none;\">\n",
              "        \n",
              "  <svg xmlns=\"http://www.w3.org/2000/svg\" height=\"24px\"viewBox=\"0 0 24 24\"\n",
              "       width=\"24px\">\n",
              "    <path d=\"M0 0h24v24H0V0z\" fill=\"none\"/>\n",
              "    <path d=\"M18.56 5.44l.94 2.06.94-2.06 2.06-.94-2.06-.94-.94-2.06-.94 2.06-2.06.94zm-11 1L8.5 8.5l.94-2.06 2.06-.94-2.06-.94L8.5 2.5l-.94 2.06-2.06.94zm10 10l.94 2.06.94-2.06 2.06-.94-2.06-.94-.94-2.06-.94 2.06-2.06.94z\"/><path d=\"M17.41 7.96l-1.37-1.37c-.4-.4-.92-.59-1.43-.59-.52 0-1.04.2-1.43.59L10.3 9.45l-7.72 7.72c-.78.78-.78 2.05 0 2.83L4 21.41c.39.39.9.59 1.41.59.51 0 1.02-.2 1.41-.59l7.78-7.78 2.81-2.81c.8-.78.8-2.07 0-2.86zM5.41 20L4 18.59l7.72-7.72 1.47 1.35L5.41 20z\"/>\n",
              "  </svg>\n",
              "      </button>\n",
              "      \n",
              "  <style>\n",
              "    .colab-df-container {\n",
              "      display:flex;\n",
              "      flex-wrap:wrap;\n",
              "      gap: 12px;\n",
              "    }\n",
              "\n",
              "    .colab-df-convert {\n",
              "      background-color: #E8F0FE;\n",
              "      border: none;\n",
              "      border-radius: 50%;\n",
              "      cursor: pointer;\n",
              "      display: none;\n",
              "      fill: #1967D2;\n",
              "      height: 32px;\n",
              "      padding: 0 0 0 0;\n",
              "      width: 32px;\n",
              "    }\n",
              "\n",
              "    .colab-df-convert:hover {\n",
              "      background-color: #E2EBFA;\n",
              "      box-shadow: 0px 1px 2px rgba(60, 64, 67, 0.3), 0px 1px 3px 1px rgba(60, 64, 67, 0.15);\n",
              "      fill: #174EA6;\n",
              "    }\n",
              "\n",
              "    [theme=dark] .colab-df-convert {\n",
              "      background-color: #3B4455;\n",
              "      fill: #D2E3FC;\n",
              "    }\n",
              "\n",
              "    [theme=dark] .colab-df-convert:hover {\n",
              "      background-color: #434B5C;\n",
              "      box-shadow: 0px 1px 3px 1px rgba(0, 0, 0, 0.15);\n",
              "      filter: drop-shadow(0px 1px 2px rgba(0, 0, 0, 0.3));\n",
              "      fill: #FFFFFF;\n",
              "    }\n",
              "  </style>\n",
              "\n",
              "      <script>\n",
              "        const buttonEl =\n",
              "          document.querySelector('#df-b6186b3d-5508-42e7-9839-7e8a94b2d547 button.colab-df-convert');\n",
              "        buttonEl.style.display =\n",
              "          google.colab.kernel.accessAllowed ? 'block' : 'none';\n",
              "\n",
              "        async function convertToInteractive(key) {\n",
              "          const element = document.querySelector('#df-b6186b3d-5508-42e7-9839-7e8a94b2d547');\n",
              "          const dataTable =\n",
              "            await google.colab.kernel.invokeFunction('convertToInteractive',\n",
              "                                                     [key], {});\n",
              "          if (!dataTable) return;\n",
              "\n",
              "          const docLinkHtml = 'Like what you see? Visit the ' +\n",
              "            '<a target=\"_blank\" href=https://colab.research.google.com/notebooks/data_table.ipynb>data table notebook</a>'\n",
              "            + ' to learn more about interactive tables.';\n",
              "          element.innerHTML = '';\n",
              "          dataTable['output_type'] = 'display_data';\n",
              "          await google.colab.output.renderOutput(dataTable, element);\n",
              "          const docLink = document.createElement('div');\n",
              "          docLink.innerHTML = docLinkHtml;\n",
              "          element.appendChild(docLink);\n",
              "        }\n",
              "      </script>\n",
              "    </div>\n",
              "  </div>\n",
              "  "
            ],
            "text/plain": [
              "          Label WikiDate ID            English Description   Language  \\\n",
              "0           Aad     Q300770                male given name     German   \n",
              "1           Aad     Q300770                male given name    English   \n",
              "2           Aad     Q300770                male given name    Persian   \n",
              "3           Aad     Q300770                male given name    Chinese   \n",
              "4         Aadil   Q96476141           masculine given name    English   \n",
              "...         ...         ...                            ...        ...   \n",
              "44198   Zygmunt     Q245304                male given name     Polish   \n",
              "44199     Þórir   Q14312096  Wikimedia disambiguation page    English   \n",
              "44200     Þórir   Q14312096  Wikimedia disambiguation page    Italian   \n",
              "44201  Þorlákur    Q3482049                male given name    English   \n",
              "44202  Þorlákur    Q3482049                male given name  Icelandic   \n",
              "\n",
              "      Wiki Short Lang     Entry  \n",
              "0                  de       Aad  \n",
              "1                  en       Aad  \n",
              "2                  fa        آد  \n",
              "3                  zh        阿德  \n",
              "4                  en     Aadil  \n",
              "...               ...       ...  \n",
              "44198              pl   Zygmunt  \n",
              "44199              en     Þórir  \n",
              "44200              it    Thorir  \n",
              "44201              en  Þorlákur  \n",
              "44202              is  Þorlákur  \n",
              "\n",
              "[44203 rows x 6 columns]"
            ]
          },
          "execution_count": 10,
          "metadata": {},
          "output_type": "execute_result"
        }
      ],
      "source": [
        "big_table_df"
      ]
    },
    {
      "cell_type": "code",
      "execution_count": 12,
      "metadata": {
        "id": "YazvlGXA1JuY"
      },
      "outputs": [],
      "source": [
        "big_table_df.to_csv('final_Given_names.csv', index=False, encoding='utf-8-sig')\n"
      ]
    }
  ],
  "metadata": {
    "colab": {
      "provenance": []
    },
    "kernelspec": {
      "display_name": "Python 3",
      "name": "python3"
    },
    "language_info": {
      "name": "python"
    }
  },
  "nbformat": 4,
  "nbformat_minor": 0
}
